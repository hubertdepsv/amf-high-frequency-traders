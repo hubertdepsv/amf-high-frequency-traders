{
 "cells": [
  {
   "cell_type": "markdown",
   "metadata": {},
   "source": [
    "# ENS Data Challenge\n",
    "# Who Are The High-frequency Traders?\n",
    "## Autorité des marchés financiers\n",
    "### Pierre-Antoine BANNIER – Hubert DE PARSEVAL – Elias LINDBERGS"
   ]
  },
  {
   "cell_type": "markdown",
   "metadata": {},
   "source": [
    "## Motivation\n",
    "\n",
    "The goal of this challenge is to classify traders as NON HFT, MIX and HFT for regulatory purposes.\n",
    "\n",
    "We are provided with quantitative and categorical features related the trading activity of these market participants.\n",
    "\n",
    "\n",
    "Let's start by importing the python libraries used in our solution."
   ]
  },
  {
   "cell_type": "code",
   "execution_count": 1,
   "metadata": {
    "_cell_guid": "b1076dfc-b9ad-4769-8c92-a6c4dae69d19",
    "_uuid": "8f2839f25d086af736a60e9eeb907d3b93b6e0e5"
   },
   "outputs": [
    {
     "data": {
      "text/html": [
       "<style type='text/css'>\n",
       ".datatable table.frame { margin-bottom: 0; }\n",
       ".datatable table.frame thead { border-bottom: none; }\n",
       ".datatable table.frame tr.coltypes td {  color: #FFFFFF;  line-height: 6px;  padding: 0 0.5em;}\n",
       ".datatable .bool    { background: #DDDD99; }\n",
       ".datatable .object  { background: #565656; }\n",
       ".datatable .int     { background: #5D9E5D; }\n",
       ".datatable .float   { background: #4040CC; }\n",
       ".datatable .str     { background: #CC4040; }\n",
       ".datatable .row_index {  background: var(--jp-border-color3);  border-right: 1px solid var(--jp-border-color0);  color: var(--jp-ui-font-color3);  font-size: 9px;}\n",
       ".datatable .frame tr.coltypes .row_index {  background: var(--jp-border-color0);}\n",
       ".datatable th:nth-child(2) { padding-left: 12px; }\n",
       ".datatable .hellipsis {  color: var(--jp-cell-editor-border-color);}\n",
       ".datatable .vellipsis {  background: var(--jp-layout-color0);  color: var(--jp-cell-editor-border-color);}\n",
       ".datatable .na {  color: var(--jp-cell-editor-border-color);  font-size: 80%;}\n",
       ".datatable .footer { font-size: 9px; }\n",
       ".datatable .frame_dimensions {  background: var(--jp-border-color3);  border-top: 1px solid var(--jp-border-color0);  color: var(--jp-ui-font-color3);  display: inline-block;  opacity: 0.6;  padding: 1px 10px 1px 5px;}\n",
       "</style>\n"
      ],
      "text/plain": [
       "<IPython.core.display.HTML object>"
      ]
     },
     "metadata": {},
     "output_type": "display_data"
    }
   ],
   "source": [
    "import numpy as np\n",
    "import pandas as pd\n",
    "from lightgbm import LGBMClassifier\n",
    "import matplotlib.pyplot as plt\n",
    "import seaborn as sns\n",
    "from tqdm import tqdm\n",
    "from sklearn.utils import shuffle\n",
    "from sklearn.model_selection import StratifiedKFold\n",
    "from sklearn.metrics import f1_score, confusion_matrix\n",
    "from sklearn.cluster import KMeans\n",
    "from sklearn.calibration import CalibratedClassifierCV\n",
    "import warnings\n",
    "warnings.filterwarnings(\"ignore\")"
   ]
  },
  {
   "cell_type": "markdown",
   "metadata": {},
   "source": [
    "## Data Pre-processing\n",
    "\n",
    "We start by ordinal encoding the categorical features **Share** and **Type**.\n",
    "\n",
    "We then engineer some meta-features.\n",
    "\n",
    "For every **Trader** and each **Day**, we count the number of **NaN** values for each column.\n",
    "\n",
    "Additionally, for every **Trader** and each **Day**, we count the number of trades and shares traded. We also count the number of days traded for each **Trader**."
   ]
  },
  {
   "cell_type": "code",
   "execution_count": 2,
   "metadata": {},
   "outputs": [],
   "source": [
    "def feature_engineering(df):\n",
    "    df.Day = df.Day.apply(lambda x: int(x.split('_')[1]))\n",
    "    df.Share = df.Share.apply(lambda x: int(x.split('_')[1]))\n",
    "    \n",
    "    ''''''\n",
    "    \n",
    "    df['n_days'] = 0\n",
    "\n",
    "    df['n_trades'] = 0\n",
    "    df['n_trades_daily'] = 0\n",
    "\n",
    "    df['n_shares'] = 0\n",
    "    df['n_shares_daily'] = 0\n",
    "\n",
    "    nan_columns = df.columns[df.isna().any()]\n",
    "    df['n_nans_' + nan_columns] = 0\n",
    "    df['n_nans_' + nan_columns + '_daily'] = 0\n",
    "\n",
    "    ''''''\n",
    "\n",
    "    for trader in tqdm(df.Trader.unique()):\n",
    "        trader_rows = df[df.Trader == trader]\n",
    "\n",
    "        df.n_trades[trader_rows.index] = len(trader_rows)\n",
    "        df.n_days[trader_rows.index] = trader_rows.Day.nunique()\n",
    "        df.n_shares[trader_rows.index] = trader_rows.Share.nunique()\n",
    "\n",
    "        for column in nan_columns:\n",
    "            df['n_nans_' + column][trader_rows.index] = df[column][trader_rows.index].isna().sum()\n",
    "\n",
    "        for day in trader_rows.Day.unique():\n",
    "            day_rows = trader_rows[trader_rows.Day == day]\n",
    "\n",
    "            df.n_trades_daily[trader_rows.index] = len(day_rows)\n",
    "            df.n_shares_daily[trader_rows.index] = day_rows.Share.nunique()\n",
    "\n",
    "            df['n_nans_' + column + '_daily'][day_rows.index] = trader_rows[column][day_rows.index].isna().sum()\n",
    "        \n",
    "    return df"
   ]
  },
  {
   "cell_type": "markdown",
   "metadata": {},
   "source": [
    "We then group our meta-features in two clusters to avoid overfitting."
   ]
  },
  {
   "cell_type": "code",
   "execution_count": 3,
   "metadata": {},
   "outputs": [],
   "source": [
    "def clustering(x_train, x_test):\n",
    "    n_clusters = 2\n",
    "    \n",
    "    columns = list(x_train)[38:]\n",
    "    \n",
    "    for column in tqdm(columns):\n",
    "        kmeans = KMeans(n_clusters=n_clusters, random_state=0)\n",
    "        x_train[column] = kmeans.fit_transform(np.expand_dims(x_train[column], 1)).argmax(1)\n",
    "        x_test[column] = kmeans.transform(np.expand_dims(x_test[column], 1)).argmax(1)\n",
    "    \n",
    "    return x_train, x_test"
   ]
  },
  {
   "cell_type": "markdown",
   "metadata": {},
   "source": [
    "Finally, we remove some features **mean_dt_TV1_TV4** and **med_dt_TV1_TV4**.\n",
    "\n",
    "We used backward recursive feature selection to decide leaves these out."
   ]
  },
  {
   "cell_type": "code",
   "execution_count": 4,
   "metadata": {},
   "outputs": [],
   "source": [
    "def preprocessor():\n",
    "    x_train = pd.read_csv('../input/x-train-csv/x_train.csv').drop(columns='Index')\n",
    "    x_test = pd.read_csv('../input/x-test-csv/x_test.csv').drop(columns='Index')\n",
    "\n",
    "    x_train = feature_engineering(x_train)\n",
    "    x_test = feature_engineering(x_test)\n",
    "    \n",
    "    x_train, x_test = clustering(x_train, x_test)\n",
    "\n",
    "    ''''''\n",
    "\n",
    "    y_train = pd.read_csv('../input/y-train-csv/y_train.csv')\n",
    "    y_train.type = y_train.type.apply(lambda x: sorted(y_train.type.unique()).index(x))\n",
    "\n",
    "    ''''''\n",
    "\n",
    "    for trader in tqdm(x_train.Trader.unique()):\n",
    "        x_train.Trader.replace(trader, y_train[y_train.Trader == trader].type.values[0], inplace=True)\n",
    "    \n",
    "    ''''''\n",
    "    \n",
    "    x_train = x_train.T.drop_duplicates().T\n",
    "    x_train = x_train[x_train.columns[x_train.nunique() > 1]]\n",
    "    \n",
    "    x_test = x_test[list(x_train)]\n",
    "    \n",
    "    x_train = shuffle(x_train, random_state=0)\n",
    "    x_train.reset_index(drop=True, inplace=True)\n",
    "    \n",
    "    ''''''\n",
    "    \n",
    "    y_train = x_train['Trader'].values\n",
    "    \n",
    "    columns_to_drop = ['mean_dt_TV1_TV4', 'med_dt_TV1_TV4']\n",
    "    \n",
    "    x_train.drop(columns=['Trader'] + columns_to_drop, inplace=True)\n",
    "    x_test.drop(columns=columns_to_drop, inplace=True)\n",
    "        \n",
    "    return x_train, y_train, x_test"
   ]
  },
  {
   "cell_type": "markdown",
   "metadata": {},
   "source": [
    "### Modeling\n",
    "\n",
    "We use lightgbm's gradient boosting framework for our classifier.\n",
    "\n",
    "We employed a stratified 5-fold cross-validation strategy to avoid class imbalance.\n",
    "\n",
    "We further calibrate our trained models using CalibratedClassifierCV and isotonic regression, which performs better than sigmoid and is robust for large sample sizes."
   ]
  },
  {
   "cell_type": "code",
   "execution_count": 5,
   "metadata": {},
   "outputs": [],
   "source": [
    "def cross_validator():\n",
    "    classifiers = []\n",
    "    \n",
    "    y_true = np.array([])\n",
    "    y_pred = np.array([])\n",
    "    \n",
    "    feature_importances = pd.DataFrame(x_train.columns, columns=['feature'])\n",
    "    \n",
    "    skf = StratifiedKFold(n_splits=5, shuffle=True, random_state=0)\n",
    "\n",
    "    i = 1\n",
    "    \n",
    "    for train_indices, test_indices in tqdm(skf.split(x_train, y_train)):\n",
    "        clf = LGBMClassifier(n_estimators=1000, class_weight='balanced', random_state=0, force_col_wise=True)\n",
    "        \n",
    "        clf.fit(\n",
    "            x_train.iloc[train_indices, :], y_train[train_indices],\n",
    "            eval_set=(x_train.iloc[test_indices, :], y_train[test_indices]),\n",
    "            early_stopping_rounds=10,\n",
    "            verbose=0\n",
    "        )\n",
    "        \n",
    "        feature_importance = pd.DataFrame(sorted(zip(clf.feature_importances_, x_train.columns)), columns=[f'importance_fold_{i}', 'feature'])\n",
    "        feature_importances = feature_importances.merge(feature_importance, on='feature')\n",
    "        \n",
    "        ''''''\n",
    "        \n",
    "        clf = CalibratedClassifierCV(base_estimator=clf, cv='prefit')\n",
    "        clf.fit(x_train.iloc[test_indices, :], y_train[test_indices])\n",
    "        \n",
    "        classifiers.append(clf)\n",
    "\n",
    "        ''''''\n",
    "\n",
    "        y_true = np.concatenate((y_true, y_train[test_indices]))\n",
    "        y_pred = np.concatenate((y_pred, clf.predict(x_train.iloc[test_indices, :])))\n",
    "        \n",
    "        i = i + 1\n",
    "    \n",
    "    ''''''\n",
    "    \n",
    "    feature_importances['importance'] = np.mean(feature_importances.filter(regex='importance'), 1)\n",
    "    feature_importances = feature_importances[['feature', 'importance']].sort_values(by='importance', ascending=False)\n",
    "    \n",
    "    return classifiers, feature_importances, y_true, y_pred"
   ]
  },
  {
   "cell_type": "code",
   "execution_count": 6,
   "metadata": {},
   "outputs": [
    {
     "name": "stderr",
     "output_type": "stream",
     "text": [
      "100%|██████████| 86/86 [00:12<00:00,  6.96it/s]\n",
      "100%|██████████| 85/85 [00:10<00:00,  8.49it/s]\n",
      "100%|██████████| 33/33 [00:06<00:00,  5.15it/s]\n",
      "100%|██████████| 86/86 [00:04<00:00, 21.29it/s]\n",
      "5it [00:52, 10.48s/it]\n"
     ]
    }
   ],
   "source": [
    "x_train, y_train, x_test = preprocessor()\n",
    "classifiers, feature_importances, y_true, y_pred = cross_validator()"
   ]
  },
  {
   "cell_type": "markdown",
   "metadata": {},
   "source": [
    "Our cross-validated f1-score is 0.996057930460759.\n",
    "\n",
    "Below, we print our confusion matrix and plot feature importance."
   ]
  },
  {
   "cell_type": "code",
   "execution_count": 7,
   "metadata": {},
   "outputs": [
    {
     "name": "stdout",
     "output_type": "stream",
     "text": [
      "f1-score: 0.996057930460759\n",
      "[[31851    67    32]\n",
      " [   43 51221   219]\n",
      " [   17    39 22293]]\n"
     ]
    },
    {
     "data": {
      "image/png": "[encoded data removed]",
      "text/plain": [
       "<Figure size 720x720 with 1 Axes>"
      ]
     },
     "metadata": {
      "needs_background": "light"
     },
     "output_type": "display_data"
    }
   ],
   "source": [
    "print(f'f1-score: {f1_score(y_true, y_pred, average=\"micro\")}')\n",
    "print(confusion_matrix(y_true, y_pred))\n",
    "\n",
    "plt.figure(figsize=(10, 10))\n",
    "sns.barplot(x='importance', y='feature', data=feature_importances)\n",
    "plt.title('Feature Importance');"
   ]
  },
  {
   "cell_type": "markdown",
   "metadata": {},
   "source": [
    "### Pseudo-labelling"
   ]
  },
  {
   "cell_type": "markdown",
   "metadata": {},
   "source": [
    "We further use pseudo-labelling to expand our training set.\n",
    "\n",
    "This method has been shown to improve model performance. We find that a threshold of 0.95 performs best in this challenge."
   ]
  },
  {
   "cell_type": "code",
   "execution_count": 8,
   "metadata": {},
   "outputs": [],
   "source": [
    "def pseudo_labeller(x_train, y_train):    \n",
    "    predictions = np.mean([classifier.predict_proba(x_test.drop(columns='Trader')) for classifier in classifiers], 0)\n",
    "    high_probability_rows = ((predictions > 0.95).sum(1) == 1)\n",
    "    \n",
    "    pseudo_x_train = x_test[high_probability_rows].drop(columns='Trader')\n",
    "    pseudo_y_train = predictions.argmax(1)[high_probability_rows]\n",
    "    \n",
    "    ''''''\n",
    "\n",
    "    pseudo_x_train = pd.concat((x_train, pseudo_x_train))\n",
    "    pseudo_y_train = np.concatenate((y_train, pseudo_y_train))\n",
    "    \n",
    "    pseudo_x_train, pseudo_y_train = shuffle(pseudo_x_train, pseudo_y_train, random_state=0)\n",
    "    pseudo_x_train.reset_index(drop=True, inplace=True)\n",
    "    \n",
    "    return pseudo_x_train, pseudo_y_train"
   ]
  },
  {
   "cell_type": "code",
   "execution_count": 9,
   "metadata": {},
   "outputs": [],
   "source": [
    "def pseudo_cross_validator():\n",
    "    classifiers = []\n",
    "    \n",
    "    y_true = np.array([])\n",
    "    y_pred = np.array([])\n",
    "    \n",
    "    feature_importances = pd.DataFrame(x_train.columns, columns=['feature'])\n",
    "    \n",
    "    ''''''\n",
    "    \n",
    "    train_indices = []\n",
    "    test_indices = []\n",
    "\n",
    "    pseudo_test_indices = []\n",
    "    \n",
    "    skf = StratifiedKFold(n_splits=5, shuffle=True, random_state=0)\n",
    "\n",
    "    for i, j in skf.split(x_train, y_train):\n",
    "        train_indices.append(i)\n",
    "        test_indices.append(j)\n",
    "\n",
    "    for i, j in skf.split(pseudo_x_train, pseudo_y_train):\n",
    "        pseudo_test_indices.append(j)\n",
    "        \n",
    "    ''''''\n",
    "\n",
    "    for i in tqdm(range(5)):\n",
    "        x_train_fold = pd.concat((x_train.iloc[train_indices[i]], pseudo_x_train.iloc[pseudo_test_indices[i]]))\n",
    "        y_train_fold = np.append(y_train[train_indices[i]], pseudo_y_train[pseudo_test_indices[i]])\n",
    "\n",
    "        x_train_fold, y_train_fold = shuffle(x_train_fold, y_train_fold, random_state=0)\n",
    "        x_train_fold.reset_index(drop=True, inplace=True)\n",
    "\n",
    "        x_test_fold = x_train.iloc[test_indices[i]]\n",
    "        y_test_fold = y_train[test_indices[i]]\n",
    "        \n",
    "        ''''''\n",
    "\n",
    "        clf = LGBMClassifier(n_estimators=1000, class_weight='balanced', reg_lambda=0.8, random_state=0, force_col_wise=True)\n",
    "\n",
    "        clf.fit(\n",
    "            x_train_fold, y_train_fold,\n",
    "            eval_set=(x_test_fold, y_test_fold),\n",
    "            early_stopping_rounds=10,\n",
    "            verbose=0\n",
    "        )\n",
    "        \n",
    "        ''''''\n",
    "        \n",
    "        clf = CalibratedClassifierCV(base_estimator=clf, cv='prefit')\n",
    "        clf.fit(x_test_fold, y_test_fold)\n",
    "        \n",
    "        classifiers.append(clf)\n",
    "\n",
    "        ''''''\n",
    "\n",
    "        y_true = np.concatenate((y_true, y_test_fold))\n",
    "        y_pred = np.concatenate((y_pred, clf.predict(x_test_fold)))\n",
    "    \n",
    "    return classifiers, y_true, y_pred"
   ]
  },
  {
   "cell_type": "code",
   "execution_count": 10,
   "metadata": {},
   "outputs": [
    {
     "name": "stderr",
     "output_type": "stream",
     "text": [
      "100%|██████████| 5/5 [01:18<00:00, 15.74s/it]\n"
     ]
    }
   ],
   "source": [
    "pseudo_x_train, pseudo_y_train = pseudo_labeller(x_train, y_train)\n",
    "classifiers, y_true, y_pred = pseudo_cross_validator()"
   ]
  },
  {
   "cell_type": "markdown",
   "metadata": {},
   "source": [
    "Our f1-score improved from 0.996057930460759 to 0.9970599913028682.\n",
    "\n",
    "Moreover, our confusion matrix does not present signs of bias introduced by pseudo-labelling."
   ]
  },
  {
   "cell_type": "code",
   "execution_count": 11,
   "metadata": {},
   "outputs": [
    {
     "name": "stdout",
     "output_type": "stream",
     "text": [
      "f1-score: 0.9970599913028682\n",
      "[[31867    56    27]\n",
      " [   33 51296   154]\n",
      " [   15    26 22308]]\n"
     ]
    }
   ],
   "source": [
    "print(f'f1-score: {f1_score(y_true, y_pred, average=\"micro\")}')\n",
    "print(confusion_matrix(y_true, y_pred))"
   ]
  },
  {
   "cell_type": "markdown",
   "metadata": {},
   "source": [
    "Finally, our submission is generated by selecting the class with the highest average predicted probability.\n",
    "\n",
    "Our f1-score on the public leaderboard is consistent with our cross-validated scores, attesting to the robusting of our approach."
   ]
  },
  {
   "cell_type": "code",
   "execution_count": 12,
   "metadata": {},
   "outputs": [],
   "source": [
    "def submitter():\n",
    "    predictions = pd.DataFrame(np.mean([classifier.predict_proba(x_test.drop(columns='Trader')) for classifier in classifiers], 0))\n",
    "    predictions['Trader'] = x_test.Trader\n",
    "\n",
    "    ''''''\n",
    "\n",
    "    submission = pd.read_csv('../input/submission-example/submission_example.csv')\n",
    "    types = sorted(list(submission.type.unique()))\n",
    "\n",
    "    ''''''\n",
    "\n",
    "    for i, trader in enumerate(submission.Trader):\n",
    "        submission.type.values[i] = types[np.mean(predictions[predictions.Trader == trader].drop(columns='Trader'), 0).argmax()]\n",
    "\n",
    "    return submission"
   ]
  },
  {
   "cell_type": "code",
   "execution_count": null,
   "metadata": {},
   "outputs": [],
   "source": [
    "submission = submitter()\n",
    "submission.to_csv('submission.csv', index=False)\n",
    "submission"
   ]
  },
  {
   "cell_type": "markdown",
   "metadata": {},
   "source": [
    "### Further Work\n",
    "\n",
    "One could explore further hyperparameter tuning. Our experiments tuning the learning rate were not conclusive.\n",
    "\n",
    "Model ensembling with other approaches has the potential for score improvements and greater robustness.\n",
    "\n",
    "Finally, continued study of the features and the time dimension of this problem may prove beneficial."
   ]
  }
 ],
 "metadata": {
  "kernelspec": {
   "display_name": "Python 3",
   "language": "python",
   "name": "python3"
  },
  "language_info": {
   "codemirror_mode": {
    "name": "ipython",
    "version": 3
   },
   "file_extension": ".py",
   "mimetype": "text/x-python",
   "name": "python",
   "nbconvert_exporter": "python",
   "pygments_lexer": "ipython3",
   "version": "3.8.8"
  }
 },
 "nbformat": 4,
 "nbformat_minor": 4
}
